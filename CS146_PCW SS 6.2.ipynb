{
 "cells": [
  {
   "cell_type": "code",
   "execution_count": null,
   "metadata": {},
   "outputs": [],
   "source": [
    "import numpy as np\n",
    "import pandas as pd\n",
    "import scipy.stats as sts\n",
    "import matplotlib.pyplot as plt"
   ]
  },
  {
   "cell_type": "code",
   "execution_count": null,
   "metadata": {},
   "outputs": [],
   "source": [
    "# Import the data\n",
    "df = pd.read_csv('socialmobility.csv')\n",
    "data = df.to_numpy()"
   ]
  },
  {
   "cell_type": "code",
   "execution_count": null,
   "metadata": {},
   "outputs": [],
   "source": [
    "# Set up alpha for prior with 1s\n",
    "alpha_prior = [1]*len(data)\n",
    "# Calculate alpha for posterior based on count data\n",
    "alpha_posterior = alpha_prior + data[:,2]"
   ]
  },
  {
   "cell_type": "code",
   "execution_count": null,
   "metadata": {},
   "outputs": [],
   "source": [
    "# Create samples\n",
    "samples = sts.dirichlet.rvs(alpha_posterior, size=1000000)"
   ]
  },
  {
   "cell_type": "code",
   "execution_count": null,
   "metadata": {},
   "outputs": [],
   "source": [
    "# Using Bayes formula to calculate probability of child skilled given dad unskilled\n",
    "prob_c_skilled_and_d_unskilled = samples[:,6]\n",
    "prob_dad_unskilled = samples[:,4]+samples[:,5]+samples[:,6]+samples[:,7]\n",
    "prob_c_skilled_given_d_unskilled = prob_c_skilled_and_d_unskilled / prob_dad_unskilled\n",
    "confint = (np.mean(prob_c_skilled_given_d_unskilled)-1.96*sts.sem(prob_c_skilled_given_d_unskilled),np.mean(prob_c_skilled_given_d_unskilled)+1.96*sts.sem(prob_c_skilled_given_d_unskilled)\n",
    "\n"
   ]
  },
  {
   "cell_type": "code",
   "execution_count": null,
   "metadata": {},
   "outputs": [],
   "source": [
    "# Using Bayes formula to calculate probability of child professional given dad farmer\n",
    "prob_c_prof_and_d_farmer = samples[:,3]\n",
    "prob_dad_farmer = samples[:,3]+samples[:,7]+samples[:,11]+samples[:,15]\n",
    "prob_c_prof_given_d_farmer = prob_c_skilled_and_d_unskilled/prob_dad_farmer\n",
    "confint = (np.mean(prob_c_prof_given_d_farmer)-1.96*sts.sem(prob_c_prof_given_d_farmer),np.mean(prob_c_prof_given_d_farmer)+1.96*sts.sem(prob_c_prof_given_d_farmer))\n",
    "\n"
   ]
  }
 ],
 "metadata": {
  "kernelspec": {
   "display_name": "Python 3",
   "language": "python",
   "name": "python3"
  },
  "language_info": {
   "codemirror_mode": {
    "name": "ipython",
    "version": 3
   },
   "file_extension": ".py",
   "mimetype": "text/x-python",
   "name": "python",
   "nbconvert_exporter": "python",
   "pygments_lexer": "ipython3",
   "version": "3.7.3"
  }
 },
 "nbformat": 4,
 "nbformat_minor": 2
}
